{
 "cells": [
  {
   "cell_type": "code",
   "execution_count": 1,
   "id": "bf5a0bde",
   "metadata": {},
   "outputs": [],
   "source": [
    "import torch\n",
    "import torch.nn as nn\n",
    "import torchvision.models as models\n",
    "import torch.nn.functional as F"
   ]
  },
  {
   "cell_type": "code",
   "execution_count": 2,
   "id": "c3471ada",
   "metadata": {},
   "outputs": [],
   "source": [
    "class ResizeModel(nn.Module):\n",
    "    def __init__(self):\n",
    "        super(ResizeModel, self).__init__()\n",
    "\n",
    "        self.conv1 = nn.Conv1d(in_channels=270, out_channels=512, kernel_size=3, stride=2, padding=1)\n",
    "        self.conv2 = nn.Conv1d(in_channels=512, out_channels=1024, kernel_size=3, stride=2, padding=1)\n",
    "        self.conv3 = nn.Conv1d(in_channels=1024, out_channels=270, kernel_size=3, stride=3)\n",
    "        self.conv4 = nn.Conv2d(in_channels=1, out_channels=3, kernel_size=3, padding=1)\n",
    "\n",
    "    def forward(self, x):\n",
    "        batch_size, time, _, _, _ = x.shape\n",
    "\n",
    "        # [batch_size, time, transmitter, receiver, subcarrier] -> [batch_size, time, transmitter * receiver * subcarrier]\n",
    "        x = x.view(batch_size, time, -1)\n",
    "        # [batch_size, time, transmitter * receiver * subcarrier] -> [batch_size, transmitter * receiver * subcarrier, time]\n",
    "        x = x.permute(0, 2, 1)\n",
    "\n",
    "        x = F.relu(self.conv1(x))\n",
    "        x = F.relu(self.conv2(x))\n",
    "        x = F.relu(self.conv3(x))\n",
    "\n",
    "        # [batch_size, transmitter * receiver * subcarrier, time] -> [batch_size, 1, transmitter * receiver * subcarrier, time]\n",
    "        x = x.unsqueeze(1)\n",
    "\n",
    "        # [batch_size, 1, transmitter * receiver * subcarrier, time] -> [batch_size, 3, transmitter * receiver * subcarrier, time]\n",
    "        x = F.relu(self.conv4(x))\n",
    "\n",
    "        x = F.interpolate(x, size=(224, 224), mode='bicubic', align_corners=False)\n",
    "\n",
    "        return x"
   ]
  },
  {
   "cell_type": "code",
   "execution_count": 3,
   "id": "b9736535",
   "metadata": {},
   "outputs": [],
   "source": [
    "class VisionTransformer(torch.nn.Module):\n",
    "    def __init__(self, backbone=None, num_users=6, num_classes=10):\n",
    "        super(VisionTransformer, self).__init__()\n",
    "\n",
    "        self.num_users = num_users\n",
    "        self.num_classes = num_classes\n",
    "\n",
    "        self.resize_model = ResizeModel()\n",
    "\n",
    "        self.vit = backbone or models.vit_b_16(weights=None)\n",
    "        self.vit.heads = torch.nn.Identity()\n",
    "        self.embed_dim = self.vit.conv_proj.out_channels\n",
    "\n",
    "        self.head1 = nn.Linear(self.embed_dim, self.num_users * 2)\n",
    "        self.head2 = nn.Linear(self.embed_dim, self.num_users * self.num_classes)\n",
    "\n",
    "    def forward(self, x):\n",
    "        x = self.resize_model(x)\n",
    "        batch_size, _, _, _ = x.shape\n",
    "\n",
    "        x = self.vit(x)\n",
    "\n",
    "        y1, y2 = self.head1(x), self.head2(x)\n",
    "        y1, y2 = y1.view(batch_size, self.num_users, 2), y2.view(batch_size, self.num_users, self.num_classes)\n",
    "\n",
    "        return y1, y2"
   ]
  },
  {
   "cell_type": "code",
   "execution_count": 4,
   "id": "09e4067a",
   "metadata": {},
   "outputs": [
    {
     "name": "stdout",
     "output_type": "stream",
     "text": [
      "X shape: torch.Size([4, 3000, 3, 3, 30])\n",
      "Y1 shape: torch.Size([4, 6, 2])\n",
      "Y1 shape: torch.Size([4, 6, 10])\n"
     ]
    }
   ],
   "source": [
    "batch_size, time, transmitter, receiver, subcarrier = 4, 3000, 3, 3, 30\n",
    "x = torch.randn(batch_size, time, transmitter, receiver, subcarrier)\n",
    "\n",
    "vit = VisionTransformer()\n",
    "\n",
    "y1, y2 = vit(x)\n",
    "\n",
    "print(\"X shape:\", x.shape)\n",
    "print(\"Y1 shape:\", y1.shape)\n",
    "print(\"Y1 shape:\", y2.shape)"
   ]
  },
  {
   "cell_type": "code",
   "execution_count": null,
   "id": "95e2ad54",
   "metadata": {},
   "outputs": [],
   "source": []
  }
 ],
 "metadata": {
  "kernelspec": {
   "display_name": "Python 3 (ipykernel)",
   "language": "python",
   "name": "python3"
  },
  "language_info": {
   "codemirror_mode": {
    "name": "ipython",
    "version": 3
   },
   "file_extension": ".py",
   "mimetype": "text/x-python",
   "name": "python",
   "nbconvert_exporter": "python",
   "pygments_lexer": "ipython3",
   "version": "3.11.4"
  }
 },
 "nbformat": 4,
 "nbformat_minor": 5
}
