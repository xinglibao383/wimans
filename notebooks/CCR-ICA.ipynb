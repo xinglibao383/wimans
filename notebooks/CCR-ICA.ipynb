{
 "cells": [
  {
   "cell_type": "code",
   "execution_count": 1,
   "id": "a6fbf996-54ad-436f-84d6-24772cf492b1",
   "metadata": {},
   "outputs": [],
   "source": [
    "import numpy as np\n",
    "import warnings\n",
    "from sklearn.decomposition import FastICA\n",
    "from scipy.stats import pearsonr"
   ]
  },
  {
   "cell_type": "code",
   "execution_count": 2,
   "id": "7fc3c536-3d73-46de-b85a-fa082b930fb7",
   "metadata": {},
   "outputs": [],
   "source": [
    "def blind_source_separation(csi_data, num_users, random_state=0):\n",
    "    warnings.filterwarnings(\"ignore\", category=UserWarning, module='sklearn.decomposition._fastica')\n",
    "\n",
    "    time, transmitters, receivers, subcarriers = csi_data.shape\n",
    "    separated_csi_data = np.zeros((num_users, time, transmitters, receivers, subcarriers))\n",
    "    ica = FastICA(n_components=num_users, random_state=random_state)\n",
    "    \n",
    "    for tx in range(0, transmitters):\n",
    "        for rx in range(0, receivers):\n",
    "            data = csi_data[:, tx, rx, :]\n",
    "            result = np.zeros((subcarriers, time, num_users))\n",
    "            for subcarrier in range(subcarriers):\n",
    "                result[subcarrier, :, :] = ica.fit_transform(data[:, subcarrier].reshape(-1, 1))\n",
    "            separated_csi_data[:, :, tx, rx, :] = np.transpose(result, (2, 1, 0))\n",
    "\n",
    "    return separated_csi_data"
   ]
  },
  {
   "cell_type": "code",
   "execution_count": 3,
   "id": "5af9bd8d-3353-47f2-a9db-c468427c13e9",
   "metadata": {},
   "outputs": [],
   "source": [
    "def invert(csi_data):\n",
    "    inverted_csi_data = np.zeros_like(csi_data)\n",
    "    users, time, transmitters, receivers, subcarriers = csi_data.shape\n",
    "    \n",
    "    for user in range(0, users):\n",
    "        inverted_data = np.zeros((time, transmitters, receivers, subcarriers))\n",
    "        for tx in range(0, transmitters):\n",
    "            for rx in range(0, receivers):\n",
    "                data = csi_data[user, :, tx, rx, :]\n",
    "                avg = np.mean(data, axis=1).reshape(-1, 1)\n",
    "                inverted_data[:, tx, rx, :] = np.abs(data - 2 * avg)\n",
    "        inverted_csi_data[user, :, :, :, :] = inverted_data\n",
    "\n",
    "    return inverted_csi_data"
   ]
  },
  {
   "cell_type": "code",
   "execution_count": 4,
   "id": "75a3bcc1-b762-47b8-8406-b195811d0f9c",
   "metadata": {},
   "outputs": [],
   "source": [
    "def calculate_correlation_coefficient_and_record(separated_csi_data, inverted_csi_data):\n",
    "    recorded_csi_data = np.zeros_like(separated_csi_data)\n",
    "    num_users, time, transmitters, receivers, subcarriers = separated_csi_data.shape\n",
    "    \n",
    "    for user in range(0, num_users):\n",
    "        for tx in range(0, transmitters):\n",
    "            for rx in range(0, receivers):\n",
    "                recorded_csi_data[user, :, tx, rx, 0] = separated_csi_data[user, :, tx, rx, 0]\n",
    "                for subcarrier in range(1, subcarriers):\n",
    "                    prev_data = recorded_csi_data[user, :, tx, rx, subcarrier - 1]\n",
    "                    max_corr, best_data = -1, None\n",
    "                    for candidate in range(0, num_users):\n",
    "                        corr, _ = pearsonr(prev_data, separated_csi_data[candidate, :, tx, rx, subcarrier])\n",
    "                        if corr > max_corr:\n",
    "                            max_corr, best_data = corr, separated_csi_data[user, :, tx, rx, subcarrier]\n",
    "                    for candidate in range(0, num_users):\n",
    "                        corr, _ = pearsonr(prev_data, inverted_csi_data[candidate, :, tx, rx, subcarrier])\n",
    "                        if corr > max_corr:\n",
    "                            max_corr, best_data = corr, inverted_csi_data[user, :, tx, rx, subcarrier]\n",
    "                    recorded_csi_data[user, :, tx, rx, subcarrier] = best_data\n",
    "                        \n",
    "    return recorded_csi_data"
   ]
  },
  {
   "cell_type": "code",
   "execution_count": 5,
   "id": "f3b9cf5b-db1d-40eb-bc1b-ff927908c5e8",
   "metadata": {},
   "outputs": [],
   "source": [
    "def ccr_ica(csi_data, num_users):\n",
    "    separated_csi_data = blind_source_separation(csi_data, num_users)\n",
    "    inverted_csi_data = invert(separated_csi_data)\n",
    "    return calculate_correlation_coefficient_and_record(separated_csi_data, inverted_csi_data)"
   ]
  },
  {
   "cell_type": "code",
   "execution_count": 6,
   "id": "5ab1b635-c064-4486-96b2-2e36b98a79d9",
   "metadata": {},
   "outputs": [],
   "source": [
    "time, transmitters, receivers, subcarriers, num_users = 3000, 3, 3, 30, 4\n",
    "csi_data = np.random.rand(time, transmitters, receivers, subcarriers)\n",
    "recorded_csi_data = ccr_ica(csi_data, num_users)"
   ]
  },
  {
   "cell_type": "code",
   "execution_count": 7,
   "id": "36ce052f-679e-430a-b765-e3c11d8c0ad9",
   "metadata": {},
   "outputs": [
    {
     "data": {
      "text/plain": [
       "(4, 3000, 3, 3, 30)"
      ]
     },
     "execution_count": 7,
     "metadata": {},
     "output_type": "execute_result"
    }
   ],
   "source": [
    "recorded_csi_data.shape"
   ]
  },
  {
   "cell_type": "code",
   "execution_count": null,
   "id": "47a0ca76-e34d-4374-9ce7-271c4c83686c",
   "metadata": {},
   "outputs": [],
   "source": []
  }
 ],
 "metadata": {
  "kernelspec": {
   "display_name": "Python 3 (ipykernel)",
   "language": "python",
   "name": "python3"
  },
  "language_info": {
   "codemirror_mode": {
    "name": "ipython",
    "version": 3
   },
   "file_extension": ".py",
   "mimetype": "text/x-python",
   "name": "python",
   "nbconvert_exporter": "python",
   "pygments_lexer": "ipython3",
   "version": "3.8.20"
  }
 },
 "nbformat": 4,
 "nbformat_minor": 5
}
